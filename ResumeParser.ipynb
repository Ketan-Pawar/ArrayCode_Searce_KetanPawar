{
  "nbformat": 4,
  "nbformat_minor": 0,
  "metadata": {
    "colab": {
      "name": "Untitled0.ipynb",
      "provenance": [],
      "mount_file_id": "1rv67_ZZeHjOAM5CCSFWrAEvoGT15tuy_",
      "authorship_tag": "ABX9TyNOWQvxoDf6EEGlbA8r3aST",
      "include_colab_link": true
    },
    "kernelspec": {
      "name": "python3",
      "display_name": "Python 3"
    },
    "language_info": {
      "name": "python"
    }
  },
  "cells": [
    {
      "cell_type": "markdown",
      "metadata": {
        "id": "view-in-github",
        "colab_type": "text"
      },
      "source": [
        "<a href=\"https://colab.research.google.com/github/Ketan-Pawar/TrainingCode_Searce_KetanPawar/blob/main/ResumeParser.ipynb\" target=\"_parent\"><img src=\"https://colab.research.google.com/assets/colab-badge.svg\" alt=\"Open In Colab\"/></a>"
      ]
    },
    {
      "cell_type": "code",
      "source": [
        "pip install pypdf2"
      ],
      "metadata": {
        "colab": {
          "base_uri": "https://localhost:8080/"
        },
        "id": "BEmqXrNI9gU-",
        "outputId": "429e4812-4812-4d76-d08a-f339854632ad"
      },
      "execution_count": 2,
      "outputs": [
        {
          "output_type": "stream",
          "name": "stdout",
          "text": [
            "Collecting pypdf2\n",
            "  Downloading PyPDF2-1.26.0.tar.gz (77 kB)\n",
            "\u001b[?25l\r\u001b[K     |████▎                           | 10 kB 18.2 MB/s eta 0:00:01\r\u001b[K     |████████▌                       | 20 kB 24.0 MB/s eta 0:00:01\r\u001b[K     |████████████▊                   | 30 kB 25.9 MB/s eta 0:00:01\r\u001b[K     |█████████████████               | 40 kB 18.8 MB/s eta 0:00:01\r\u001b[K     |█████████████████████▏          | 51 kB 20.7 MB/s eta 0:00:01\r\u001b[K     |█████████████████████████▍      | 61 kB 17.3 MB/s eta 0:00:01\r\u001b[K     |█████████████████████████████▋  | 71 kB 17.3 MB/s eta 0:00:01\r\u001b[K     |████████████████████████████████| 77 kB 5.1 MB/s \n",
            "\u001b[?25hBuilding wheels for collected packages: pypdf2\n",
            "  Building wheel for pypdf2 (setup.py) ... \u001b[?25l\u001b[?25hdone\n",
            "  Created wheel for pypdf2: filename=PyPDF2-1.26.0-py3-none-any.whl size=61102 sha256=abc4e0d11dd71240125edbbcea6f2a064eeac67b03c6ab96c0bab139c682bd07\n",
            "  Stored in directory: /root/.cache/pip/wheels/80/1a/24/648467ade3a77ed20f35cfd2badd32134e96dd25ca811e64b3\n",
            "Successfully built pypdf2\n",
            "Installing collected packages: pypdf2\n",
            "Successfully installed pypdf2-1.26.0\n"
          ]
        }
      ]
    },
    {
      "cell_type": "code",
      "source": [
        "import PyPDF2\n",
        "import spacy\n",
        "import pandas as pd\n",
        "import os\n",
        "\n",
        "path = ''"
      ],
      "metadata": {
        "id": "_3ljKFCK9nH7"
      },
      "execution_count": null,
      "outputs": []
    }
  ]
}